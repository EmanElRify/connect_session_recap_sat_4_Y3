{
 "cells": [
  {
   "cell_type": "code",
   "execution_count": 2,
   "id": "28e5e04a",
   "metadata": {},
   "outputs": [],
   "source": [
    "while True:\n",
    "    flag = input(\"Please enter 1 or 2\")\n",
    "    if flag in ['1', '2']:\n",
    "        break"
   ]
  },
  {
   "cell_type": "code",
   "execution_count": 6,
   "id": "2f5738c6",
   "metadata": {},
   "outputs": [
    {
     "name": "stdout",
     "output_type": "stream",
     "text": [
      "0\n",
      "0\n"
     ]
    }
   ],
   "source": [
    "n = 2\n",
    "while n < 4:\n",
    "    n += 1\n",
    "    print(0)"
   ]
  },
  {
   "cell_type": "code",
   "execution_count": 8,
   "id": "40922a07",
   "metadata": {},
   "outputs": [
    {
     "name": "stdout",
     "output_type": "stream",
     "text": [
      "Hello\n",
      "Hello\n",
      "Hello\n",
      "Hello\n",
      "Hello\n",
      "Hello\n",
      "Hello\n",
      "Hello\n"
     ]
    }
   ],
   "source": [
    "import time\n",
    "\n",
    "def print_pause(msg):\n",
    "    print(msg)\n",
    "    time.sleep(2)\n",
    "    \n",
    "print(\"Hello\")\n",
    "print(\"Hello\")\n",
    "print(\"Hello\")\n",
    "print(\"Hello\")\n",
    "print(\"Hello\")\n",
    "print(\"Hello\")\n",
    "print(\"Hello\")\n",
    "print(\"Hello\")"
   ]
  },
  {
   "cell_type": "code",
   "execution_count": null,
   "id": "da588bb3",
   "metadata": {},
   "outputs": [
    {
     "name": "stdout",
     "output_type": "stream",
     "text": [
      "hello\n",
      "hello\n",
      "hello\n",
      "hello\n",
      "hello\n",
      "hello\n",
      "hello\n",
      "hello\n"
     ]
    }
   ],
   "source": [
    "from time import sleep \n",
    "\n",
    "def print_pause(msg):\n",
    "    print(msg)\n",
    "    sleep(2)\n",
    "\n",
    "print_pause(\"hello\")\n",
    "print_pause(\"hello\")\n",
    "print_pause(\"hello\")\n",
    "print_pause(\"hello\")\n",
    "print_pause(\"hello\")\n",
    "print_pause(\"hello\")\n",
    "print_pause(\"hello\")\n",
    "print_pause(\"hello\")\n"
   ]
  },
  {
   "cell_type": "code",
   "execution_count": null,
   "id": "4f747cb2",
   "metadata": {},
   "outputs": [
    {
     "name": "stdout",
     "output_type": "stream",
     "text": [
      "Hello\n",
      "Hello\n",
      "Hello\n",
      "Hello\n",
      "Hello\n",
      "Hello\n",
      "Hello\n"
     ]
    }
   ],
   "source": [
    "t = 3\n",
    "print(\"Hello\")\n",
    "time.sleep(t)\n",
    "print(\"Hello\")\n",
    "time.sleep(t)\n",
    "print(\"Hello\")\n",
    "time.sleep(t)\n",
    "print('Hello')\n",
    "time.sleep(t)\n",
    "print(\"Hello\")\n",
    "time.sleep(3)\n",
    "print(\"Hello\")\n",
    "time.sleep(3)\n",
    "print(\"Hello\")\n",
    "time.sleep(3)\n",
    "\n",
    "\n"
   ]
  },
  {
   "cell_type": "code",
   "execution_count": null,
   "id": "4fb1db29",
   "metadata": {},
   "outputs": [],
   "source": [
    "if __name__ == \"__main__\":\n",
    "    pass"
   ]
  },
  {
   "cell_type": "code",
   "execution_count": 12,
   "id": "b76a30e9",
   "metadata": {},
   "outputs": [],
   "source": [
    "import time, random"
   ]
  },
  {
   "cell_type": "code",
   "execution_count": null,
   "id": "f17c14be",
   "metadata": {},
   "outputs": [],
   "source": [
    "import time\n",
    "import random"
   ]
  },
  {
   "cell_type": "code",
   "execution_count": 14,
   "id": "6eb327a4",
   "metadata": {},
   "outputs": [
    {
     "name": "stdout",
     "output_type": "stream",
     "text": [
      "My favorite color is blue. What is yours\n",
      "My favorite color is blue. What is yours\n"
     ]
    }
   ],
   "source": [
    "import random\n",
    "\n",
    "colors = ['red', 'yellow', 'blue']\n",
    "random_color = random.choice(colors) \n",
    "print(f\"My favorite color is {random_color}. What is yours\")\n",
    "print(\"My favorite color is \" + random_color + \". What is yours\")"
   ]
  },
  {
   "cell_type": "code",
   "execution_count": 17,
   "id": "2a012a54",
   "metadata": {},
   "outputs": [
    {
     "name": "stdout",
     "output_type": "stream",
     "text": [
      "I have purchased 4 bags!\n",
      "I have purchased 4 bags!\n"
     ]
    }
   ],
   "source": [
    "random_number = random.randint(0,10)\n",
    "print(f\"I have purchased {random_number} bags!\")\n",
    "print(\"I have purchased \" + str(random_number) + \" bags!\")\n"
   ]
  },
  {
   "cell_type": "code",
   "execution_count": 3,
   "id": "cc534944",
   "metadata": {},
   "outputs": [
    {
     "name": "stdout",
     "output_type": "stream",
     "text": [
      "Hello, world\n"
     ]
    }
   ],
   "source": [
    "print(\"Hello\"\n",
    "       \", world\")"
   ]
  },
  {
   "cell_type": "code",
   "execution_count": 21,
   "id": "27680d66",
   "metadata": {},
   "outputs": [
    {
     "name": "stdout",
     "output_type": "stream",
     "text": [
      "It is the Vampire's house!!!!\n"
     ]
    }
   ],
   "source": [
    "enemies = ['Dragon', 'Pirate', 'Beast', 'Witch', 'Vampire']\n",
    "random_enemy = random.choice(enemies)\n",
    "print_pause(f\"It is the {random_enemy}'s house!!!!\")"
   ]
  },
  {
   "cell_type": "code",
   "execution_count": 5,
   "id": "93565f13",
   "metadata": {},
   "outputs": [
    {
     "name": "stdout",
     "output_type": "stream",
     "text": [
      "Helllllllllllllllllllllllllllllllllllllllllllllllllllllllllllllllllllllllo\n"
     ]
    }
   ],
   "source": [
    "print(\"Helllllllllllllllllllllllll\" \\\n",
    "      \"llllllllllllllllllllllllllllllllllllllllllllllo\")"
   ]
  },
  {
   "cell_type": "code",
   "execution_count": null,
   "id": "b84822f5",
   "metadata": {},
   "outputs": [],
   "source": [
    "import time\n",
    "import random\n",
    "\n",
    "def print_pause(msg, seconds=1):\n",
    "    # \n",
    "    print(msg)\n",
    "    time.sleep(seconds)\n",
    "\n",
    "\n",
    "def cave(score):\n",
    "    print_pause(\"You are in the cave\")\n",
    "    score += 2\n",
    "    print_pause(f\"Your current score is {score}\")\n",
    "    return score\n",
    "\n",
    "\n",
    "\n",
    "def house(score):\n",
    "    print_pause(\"You are in the house\")\n",
    "    score -= 2\n",
    "    print_pause(f\"Your current score is {score}\")\n",
    "    return score\n",
    "\n",
    "\n",
    "def main():\n",
    "    print_pause(\"The game starts\")\n",
    "    total_score = 0\n",
    "    n = input(\"please enter 1 or 2\")\n",
    "    if n == '1':\n",
    "        \n",
    "        total_score += 1\n",
    "        print_pause(f\"Your current score is {total_score}\")\n",
    "        total_score = cave(total_score)\n",
    "    else:\n",
    "        \n",
    "        total_score -= 1\n",
    "        print_pause(f\"Your current score is {total_score}\")\n",
    "        total_score = house(total_score)\n",
    "\n",
    "    if total_score < 1:\n",
    "        print(\"You lost!\")\n",
    "    else:\n",
    "        print(\"You won!\")\n",
    "    print_pause(\"The game is over\")\n",
    "\n",
    "\n",
    "    expected_input = ['y', 'n', 'yes', 'no']\n",
    "    flag = input(\"Do you want to play again?[y/n]\").lower()\n",
    "    while flag not in expected_input:\n",
    "        flag = input(\"Do you want to play again?[y/n]\").lower()\n",
    "\n",
    "    if flag in ['yes', 'y']:\n",
    "        print_pause(\"The game restarts\")\n",
    "        main()\n",
    "    else:\n",
    "        print_pause(\"Thanks for your time!!\")\n",
    "\n",
    "\n"
   ]
  }
 ],
 "metadata": {
  "kernelspec": {
   "display_name": "Python 3",
   "language": "python",
   "name": "python3"
  },
  "language_info": {
   "codemirror_mode": {
    "name": "ipython",
    "version": 3
   },
   "file_extension": ".py",
   "mimetype": "text/x-python",
   "name": "python",
   "nbconvert_exporter": "python",
   "pygments_lexer": "ipython3",
   "version": "3.12.9"
  }
 },
 "nbformat": 4,
 "nbformat_minor": 5
}
