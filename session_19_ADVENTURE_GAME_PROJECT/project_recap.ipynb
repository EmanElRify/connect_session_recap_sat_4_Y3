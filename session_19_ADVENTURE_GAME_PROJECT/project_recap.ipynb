{
 "cells": [
  {
   "cell_type": "code",
   "execution_count": 2,
   "id": "28e5e04a",
   "metadata": {},
   "outputs": [],
   "source": [
    "while True:\n",
    "    flag = input(\"Please enter 1 or 2\")\n",
    "    if flag in ['1', '2']:\n",
    "        break"
   ]
  },
  {
   "cell_type": "code",
   "execution_count": 6,
   "id": "2f5738c6",
   "metadata": {},
   "outputs": [
    {
     "name": "stdout",
     "output_type": "stream",
     "text": [
      "0\n",
      "0\n"
     ]
    }
   ],
   "source": [
    "n = 2\n",
    "while n < 4:\n",
    "    n += 1\n",
    "    print(0)"
   ]
  },
  {
   "cell_type": "code",
   "execution_count": 8,
   "id": "40922a07",
   "metadata": {},
   "outputs": [
    {
     "name": "stdout",
     "output_type": "stream",
     "text": [
      "Hello\n",
      "Hello\n",
      "Hello\n",
      "Hello\n",
      "Hello\n",
      "Hello\n",
      "Hello\n",
      "Hello\n"
     ]
    }
   ],
   "source": [
    "import time\n",
    "\n",
    "def print_pause(msg):\n",
    "    print(msg)\n",
    "    time.sleep(2)\n",
    "    \n",
    "print(\"Hello\")\n",
    "print(\"Hello\")\n",
    "print(\"Hello\")\n",
    "print(\"Hello\")\n",
    "print(\"Hello\")\n",
    "print(\"Hello\")\n",
    "print(\"Hello\")\n",
    "print(\"Hello\")"
   ]
  },
  {
   "cell_type": "code",
   "execution_count": null,
   "id": "da588bb3",
   "metadata": {},
   "outputs": [
    {
     "name": "stdout",
     "output_type": "stream",
     "text": [
      "hello\n",
      "hello\n",
      "hello\n",
      "hello\n",
      "hello\n",
      "hello\n",
      "hello\n",
      "hello\n"
     ]
    }
   ],
   "source": [
    "from time import sleep \n",
    "\n",
    "def print_pause(msg):\n",
    "    print(msg)\n",
    "    sleep(2)\n",
    "\n",
    "print_pause(\"hello\")\n",
    "print_pause(\"hello\")\n",
    "print_pause(\"hello\")\n",
    "print_pause(\"hello\")\n",
    "print_pause(\"hello\")\n",
    "print_pause(\"hello\")\n",
    "print_pause(\"hello\")\n",
    "print_pause(\"hello\")\n"
   ]
  },
  {
   "cell_type": "code",
   "execution_count": null,
   "id": "4f747cb2",
   "metadata": {},
   "outputs": [
    {
     "name": "stdout",
     "output_type": "stream",
     "text": [
      "Hello\n",
      "Hello\n",
      "Hello\n",
      "Hello\n",
      "Hello\n",
      "Hello\n",
      "Hello\n"
     ]
    }
   ],
   "source": [
    "t = 3\n",
    "print(\"Hello\")\n",
    "time.sleep(t)\n",
    "print(\"Hello\")\n",
    "time.sleep(t)\n",
    "print(\"Hello\")\n",
    "time.sleep(t)\n",
    "print('Hello')\n",
    "time.sleep(t)\n",
    "print(\"Hello\")\n",
    "time.sleep(3)\n",
    "print(\"Hello\")\n",
    "time.sleep(3)\n",
    "print(\"Hello\")\n",
    "time.sleep(3)\n",
    "\n",
    "\n"
   ]
  },
  {
   "cell_type": "code",
   "execution_count": null,
   "id": "4fb1db29",
   "metadata": {},
   "outputs": [],
   "source": [
    "if __name__ == \"__main__\":\n",
    "    pass"
   ]
  },
  {
   "cell_type": "code",
   "execution_count": 12,
   "id": "b76a30e9",
   "metadata": {},
   "outputs": [],
   "source": [
    "import time, random"
   ]
  },
  {
   "cell_type": "code",
   "execution_count": null,
   "id": "f17c14be",
   "metadata": {},
   "outputs": [],
   "source": [
    "import time\n",
    "import random"
   ]
  }
 ],
 "metadata": {
  "kernelspec": {
   "display_name": "Python 3",
   "language": "python",
   "name": "python3"
  },
  "language_info": {
   "codemirror_mode": {
    "name": "ipython",
    "version": 3
   },
   "file_extension": ".py",
   "mimetype": "text/x-python",
   "name": "python",
   "nbconvert_exporter": "python",
   "pygments_lexer": "ipython3",
   "version": "3.12.9"
  }
 },
 "nbformat": 4,
 "nbformat_minor": 5
}
